{
 "cells": [
  {
   "attachments": {},
   "cell_type": "markdown",
   "metadata": {},
   "source": [
    "The goal here is to break up a 2D image of stentor's mac into a stack of cylinders, then add up the volumes of these cylinders to calculate the volume of the whole mac.\n",
    "\n",
    "Steps taken:\n",
    "1. load image as numpy array\n",
    "2. count the number of pixels in each column that belong to the mac\n",
    "3. add up the number of mac pixels to get the cylinder's diameter in pixels\n",
    "4. convert diameter to um\n",
    "5. calculate volume of cylinders - radius from measurements, height is 1 px (in um)\n",
    "6. add up the volumes of all the cylinders"
   ]
  },
  {
   "cell_type": "code",
   "execution_count": 1,
   "metadata": {},
   "outputs": [],
   "source": [
    "import matplotlib.pyplot as plt\n",
    "import matplotlib.image as mpimg\n",
    "import numpy as np"
   ]
  },
  {
   "cell_type": "code",
   "execution_count": 2,
   "metadata": {},
   "outputs": [],
   "source": [
    "#write pixel to micron conversion factor here! \n",
    "#um = n um/px\n",
    "um = 0.27"
   ]
  },
  {
   "cell_type": "code",
   "execution_count": 3,
   "metadata": {},
   "outputs": [],
   "source": [
    "#import image as numpy array using matplotlib\n",
    "img = mpimg.imread('220406_MacCycle_13_36_py.png')"
   ]
  },
  {
   "cell_type": "code",
   "execution_count": 4,
   "metadata": {
    "scrolled": true
   },
   "outputs": [
    {
     "data": {
      "text/plain": [
       "<matplotlib.colorbar.Colorbar at 0x7fbbf8b5eca0>"
      ]
     },
     "execution_count": 4,
     "metadata": {},
     "output_type": "execute_result"
    },
    {
     "data": {
      "image/png": "[encoded data removed]",
      "text/plain": [
       "<Figure size 640x480 with 2 Axes>"
      ]
     },
     "metadata": {},
     "output_type": "display_data"
    }
   ],
   "source": [
    "#Displaying image as grayscale\n",
    "imgplot = plt.imshow(img, cmap=\"gray\")\n",
    "plt.colorbar()"
   ]
  },
  {
   "cell_type": "code",
   "execution_count": 5,
   "metadata": {},
   "outputs": [
    {
     "name": "stdout",
     "output_type": "stream",
     "text": [
      "[[False False False ... False False False]\n",
      " [False False False ... False False False]\n",
      " [False False False ... False False False]\n",
      " ...\n",
      " [False False False ... False False False]\n",
      " [False False False ... False False False]\n",
      " [False False False ... False False False]]\n"
     ]
    }
   ],
   "source": [
    "#image is now a matrix where true = pixel intensity > 0 (white area on image)\n",
    "#false is pixel intensity is 0 (black background)\n",
    "print(img > 0)"
   ]
  },
  {
   "cell_type": "code",
   "execution_count": 6,
   "metadata": {},
   "outputs": [],
   "source": [
    "#counting the number of true (white) pixels in each column\n",
    "diam_px = np.count_nonzero(img > 0, axis=0)"
   ]
  },
  {
   "cell_type": "markdown",
   "metadata": {},
   "source": [
    "Calculating the volume in um^3. First I need to convert the diameters to um"
   ]
  },
  {
   "cell_type": "code",
   "execution_count": 7,
   "metadata": {},
   "outputs": [],
   "source": [
    "#convert diam_px to diam_um by multiplying all values by the variable um defined at beginning\n",
    "diam_um = um * diam_px"
   ]
  },
  {
   "cell_type": "code",
   "execution_count": 8,
   "metadata": {},
   "outputs": [],
   "source": [
    "#calc radius of slices in um\n",
    "rad_um = diam_um / 2"
   ]
  },
  {
   "cell_type": "code",
   "execution_count": 9,
   "metadata": {},
   "outputs": [],
   "source": [
    "#calc volume of slices \n",
    "#1 px wide cylinders = 0.73 um wide cylinder\n",
    "#radius given by rad_um matrix\n",
    "vol_slices_um = np.pi * ((rad_um)**2) * um"
   ]
  },
  {
   "cell_type": "code",
   "execution_count": 10,
   "metadata": {},
   "outputs": [
    {
     "data": {
      "text/plain": [
       "61345.114285031486"
      ]
     },
     "execution_count": 10,
     "metadata": {},
     "output_type": "execute_result"
    }
   ],
   "source": [
    "#add up all the slice volumes to get mac volume in um^3\n",
    "np.sum(vol_slices_um)"
   ]
  }
 ],
 "metadata": {
  "kernelspec": {
   "display_name": "Python 3.9 (imaging)",
   "language": "python",
   "name": "imaging"
  },
  "language_info": {
   "codemirror_mode": {
    "name": "ipython",
    "version": 3
   },
   "file_extension": ".py",
   "mimetype": "text/x-python",
   "name": "python",
   "nbconvert_exporter": "python",
   "pygments_lexer": "ipython3",
   "version": "3.9.15"
  }
 },
 "nbformat": 4,
 "nbformat_minor": 4
}
